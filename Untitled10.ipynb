{
  "nbformat": 4,
  "nbformat_minor": 0,
  "metadata": {
    "colab": {
      "name": "Untitled10.ipynb",
      "provenance": [],
      "authorship_tag": "ABX9TyNo17maglpGXvjZsnGaI/6y",
      "include_colab_link": true
    },
    "kernelspec": {
      "name": "python3",
      "display_name": "Python 3"
    }
  },
  "cells": [
    {
      "cell_type": "markdown",
      "metadata": {
        "id": "view-in-github",
        "colab_type": "text"
      },
      "source": [
        "<a href=\"https://colab.research.google.com/github/muskan105/lab-2-python/blob/main/Untitled10.ipynb\" target=\"_parent\"><img src=\"https://colab.research.google.com/assets/colab-badge.svg\" alt=\"Open In Colab\"/></a>"
      ]
    },
    {
      "cell_type": "code",
      "metadata": {
        "colab": {
          "base_uri": "https://localhost:8080/"
        },
        "id": "lxGnSQZrhs8i",
        "outputId": "119943b9-4df3-4c5f-a5dc-d0d55a00a426"
      },
      "source": [
        "firstname =str( input(\"enter the first name\"))\r\n",
        "midname =str(input(\"enter the mid name\"))\r\n",
        "lastname =str(input(\"enter the last name\"))\r\n",
        "print(\"concatenation of name: \",firstname+midname+lastname)"
      ],
      "execution_count": 8,
      "outputs": [
        {
          "output_type": "stream",
          "text": [
            "enter the first namemuskan\n",
            "enter the mid namesingh\n",
            "enter the last name105\n",
            "concatenation of name:  muskansingh105\n"
          ],
          "name": "stdout"
        }
      ]
    }
  ]
}