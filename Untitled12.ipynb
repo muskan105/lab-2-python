{
  "nbformat": 4,
  "nbformat_minor": 0,
  "metadata": {
    "colab": {
      "name": "Untitled12.ipynb",
      "provenance": [],
      "authorship_tag": "ABX9TyMw9M5oR58ZpuRxzy7xM6T8",
      "include_colab_link": true
    },
    "kernelspec": {
      "name": "python3",
      "display_name": "Python 3"
    }
  },
  "cells": [
    {
      "cell_type": "markdown",
      "metadata": {
        "id": "view-in-github",
        "colab_type": "text"
      },
      "source": [
        "<a href=\"https://colab.research.google.com/github/muskan105/lab-2-python/blob/main/Untitled12.ipynb\" target=\"_parent\"><img src=\"https://colab.research.google.com/assets/colab-badge.svg\" alt=\"Open In Colab\"/></a>"
      ]
    },
    {
      "cell_type": "code",
      "metadata": {
        "id": "lPX7JBAtquJJ"
      },
      "source": [
        "4. write a program to implement type conversion on different data type"
      ],
      "execution_count": null,
      "outputs": []
    },
    {
      "cell_type": "code",
      "metadata": {
        "colab": {
          "base_uri": "https://localhost:8080/"
        },
        "id": "p3zLhbFpq2-b",
        "outputId": "26ba344d-75e3-4333-b56d-95ff9ad99e36"
      },
      "source": [
        "x = 10\r\n",
        " \r\n",
        "print(\"x is of type:\",type(x))\r\n",
        " \r\n",
        "y = 15.5\r\n",
        "print(\"y is of type:\",type(y))\r\n",
        " \r\n",
        "x = x + y\r\n",
        " \r\n",
        "print(x)\r\n",
        "print(\"x is of type:\",type(x))"
      ],
      "execution_count": 4,
      "outputs": [
        {
          "output_type": "stream",
          "text": [
            "x is of type: <class 'int'>\n",
            "y is of type: <class 'float'>\n",
            "25.5\n",
            "x is of type: <class 'float'>\n"
          ],
          "name": "stdout"
        }
      ]
    },
    {
      "cell_type": "markdown",
      "metadata": {
        "id": "X11rG5JorVKU"
      },
      "source": [
        "5. find the difference between 2 points using pythagores theorem,where the coordinates of two points given input."
      ]
    },
    {
      "cell_type": "code",
      "metadata": {
        "colab": {
          "base_uri": "https://localhost:8080/"
        },
        "id": "_-MTnuZ9rutY",
        "outputId": "66f548f6-4e1b-48fb-89a6-8cf693260c2e"
      },
      "source": [
        "import math\r\n",
        "x1=float(input(\"enter the first number :\"))\r\n",
        "x2=float(input(\"enter the second number :\"))\r\n",
        "y1=float(input(\"enter the third number :\" ))\r\n",
        "y2=float(input(\"enter the fourth number :\"))\r\n",
        "d= math.sqrt((x2-x1)**2+(y2-y1)**2)\r\n",
        "print(d)\r\n"
      ],
      "execution_count": 9,
      "outputs": [
        {
          "output_type": "stream",
          "text": [
            "enter the first number :7\n",
            "enter the second number :6\n",
            "enter the third number :5\n",
            "enter the fourth number :4\n",
            "1.4142135623730951\n"
          ],
          "name": "stdout"
        }
      ]
    }
  ]
}