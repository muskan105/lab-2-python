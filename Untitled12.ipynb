{
  "nbformat": 4,
  "nbformat_minor": 0,
  "metadata": {
    "colab": {
      "name": "Untitled12.ipynb",
      "provenance": [],
      "authorship_tag": "ABX9TyMUDVNwdUwctB9BiF66sRjx",
      "include_colab_link": true
    },
    "kernelspec": {
      "name": "python3",
      "display_name": "Python 3"
    }
  },
  "cells": [
    {
      "cell_type": "markdown",
      "metadata": {
        "id": "view-in-github",
        "colab_type": "text"
      },
      "source": [
        "<a href=\"https://colab.research.google.com/github/muskan105/lab-2-python/blob/main/Untitled12.ipynb\" target=\"_parent\"><img src=\"https://colab.research.google.com/assets/colab-badge.svg\" alt=\"Open In Colab\"/></a>"
      ]
    },
    {
      "cell_type": "code",
      "metadata": {
        "id": "lPX7JBAtquJJ"
      },
      "source": [
        "4. write a program to implement type conversion on different data type"
      ],
      "execution_count": null,
      "outputs": []
    },
    {
      "cell_type": "code",
      "metadata": {
        "colab": {
          "base_uri": "https://localhost:8080/"
        },
        "id": "p3zLhbFpq2-b",
        "outputId": "26ba344d-75e3-4333-b56d-95ff9ad99e36"
      },
      "source": [
        "x = 10\r\n",
        " \r\n",
        "print(\"x is of type:\",type(x))\r\n",
        " \r\n",
        "y = 15.5\r\n",
        "print(\"y is of type:\",type(y))\r\n",
        " \r\n",
        "x = x + y\r\n",
        " \r\n",
        "print(x)\r\n",
        "print(\"x is of type:\",type(x))"
      ],
      "execution_count": 4,
      "outputs": [
        {
          "output_type": "stream",
          "text": [
            "x is of type: <class 'int'>\n",
            "y is of type: <class 'float'>\n",
            "25.5\n",
            "x is of type: <class 'float'>\n"
          ],
          "name": "stdout"
        }
      ]
    }
  ]
}